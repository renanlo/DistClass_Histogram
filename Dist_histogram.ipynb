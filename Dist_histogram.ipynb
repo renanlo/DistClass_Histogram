{
 "cells": [
  {
   "cell_type": "code",
   "execution_count": 1,
   "id": "7b0c45a0",
   "metadata": {},
   "outputs": [],
   "source": [
    "import pandas as pd\n",
    "import numpy as np\n",
    "import math\n",
    "import matplotlib.pyplot as plt"
   ]
  },
  {
   "cell_type": "code",
   "execution_count": 2,
   "id": "12df20f3",
   "metadata": {},
   "outputs": [],
   "source": [
    "def chart_data(df, bins, xdist, yvar, clas, position): #df: dataframe, bins: number of bins, xdist: distance variable, yvar: classification variable, clas: string with classification categories, position: X and Y label position\n",
    "    df = df.sort_values(by=[xdist])\n",
    "    \n",
    "    # calculate and create a list with the probability values for each value\n",
    "    prob = 100 / len(df[xdist])\n",
    "    df['Prob'] = prob\n",
    "    \n",
    "    # generate the X values for the chart\n",
    "    xintervals = math.ceil(df[xdist].max()) #calculate the number of intervals\n",
    "    xbin = df[xdist].max() / bins #calculate the size of each bin\n",
    "    begin = xbin #begining of X axis\n",
    "    x = []\n",
    "    while begin < xintervals:\n",
    "        x.append(begin)\n",
    "        begin = begin + xbin\n",
    "    \n",
    "    # generate the Y lists for the chart\n",
    "    MEAS = []\n",
    "    IND = []\n",
    "    INF = []\n",
    "    i = 0\n",
    "    while i < len(x):\n",
    "        if i == 0:\n",
    "            l = df.loc[(df[xdist] > i) & (df[xdist] < x[0])]\n",
    "            MEAS.append(l['Prob'].loc[l[yvar] == clas[0]].sum())\n",
    "            IND.append(l['Prob'].loc[l[yvar] == clas[1]].sum())\n",
    "            INF.append(l['Prob'].loc[l[yvar] == clas[2]].sum())\n",
    "            i = i + 1\n",
    "        else:\n",
    "            l = df.loc[(df[xdist] > x[i-1]) & (df[xdist] < x[i])]\n",
    "            MEAS.append(l['Prob'].loc[l[yvar] == clas[0]].sum())\n",
    "            IND.append(l['Prob'].loc[l[yvar] == clas[1]].sum())\n",
    "            INF.append(l['Prob'].loc[l[yvar] == clas[2]].sum())\n",
    "            i = i + 1\n",
    "    \n",
    "    # chart generation\n",
    "    v=df[xdist]\n",
    "\n",
    "    string_info=f'Distance (m)\\n\\nMean: {v.mean():.2f}\\nStd. dev.: {v.std():.2f}\\nMinimum: {v.min():.2f}\\nMaximum: {v.max():.2f}\\nn: {v.count()}'\n",
    "\n",
    "    plt.figure(figsize = (7, 5))\n",
    "    plt.bar(x, MEAS, color='r', edgecolor = 'black')\n",
    "    plt.bar(x, IND, bottom=MEAS, color='g', edgecolor = 'black')\n",
    "    plt.bar(x, INF, bottom=[MEAS[j] + IND[j] for j in range(len(MEAS))], color='b', edgecolor = 'black')\n",
    "    plt.xlabel(\"Distance (m)\") \n",
    "    plt.ylabel(\"Frequency (%)\")\n",
    "    plt.legend([\"Measured\", \"Indicated\", \"Inferred\"]) \n",
    "    plt.title(\"Distance Histogram\") \n",
    "    plt.text(position[0], position[1], string_info, fontsize=12)\n",
    "    plt.xlim([0, xintervals + 2])\n",
    "    plt.show()"
   ]
  },
  {
   "cell_type": "code",
   "execution_count": 3,
   "id": "d5f9a401",
   "metadata": {},
   "outputs": [
    {
     "data": {
      "text/html": [
       "<div>\n",
       "<style scoped>\n",
       "    .dataframe tbody tr th:only-of-type {\n",
       "        vertical-align: middle;\n",
       "    }\n",
       "\n",
       "    .dataframe tbody tr th {\n",
       "        vertical-align: top;\n",
       "    }\n",
       "\n",
       "    .dataframe thead th {\n",
       "        text-align: right;\n",
       "    }\n",
       "</style>\n",
       "<table border=\"1\" class=\"dataframe\">\n",
       "  <thead>\n",
       "    <tr style=\"text-align: right;\">\n",
       "      <th></th>\n",
       "      <th>Min Dist</th>\n",
       "      <th>Classification</th>\n",
       "    </tr>\n",
       "  </thead>\n",
       "  <tbody>\n",
       "    <tr>\n",
       "      <th>0</th>\n",
       "      <td>0.075791</td>\n",
       "      <td>MEAS</td>\n",
       "    </tr>\n",
       "    <tr>\n",
       "      <th>1</th>\n",
       "      <td>0.222145</td>\n",
       "      <td>MEAS</td>\n",
       "    </tr>\n",
       "    <tr>\n",
       "      <th>2</th>\n",
       "      <td>0.261512</td>\n",
       "      <td>MEAS</td>\n",
       "    </tr>\n",
       "    <tr>\n",
       "      <th>3</th>\n",
       "      <td>0.277510</td>\n",
       "      <td>MEAS</td>\n",
       "    </tr>\n",
       "    <tr>\n",
       "      <th>4</th>\n",
       "      <td>0.309167</td>\n",
       "      <td>MEAS</td>\n",
       "    </tr>\n",
       "    <tr>\n",
       "      <th>...</th>\n",
       "      <td>...</td>\n",
       "      <td>...</td>\n",
       "    </tr>\n",
       "    <tr>\n",
       "      <th>13606</th>\n",
       "      <td>30.481064</td>\n",
       "      <td>INF</td>\n",
       "    </tr>\n",
       "    <tr>\n",
       "      <th>13607</th>\n",
       "      <td>30.505543</td>\n",
       "      <td>INF</td>\n",
       "    </tr>\n",
       "    <tr>\n",
       "      <th>13608</th>\n",
       "      <td>30.514164</td>\n",
       "      <td>INF</td>\n",
       "    </tr>\n",
       "    <tr>\n",
       "      <th>13609</th>\n",
       "      <td>30.922736</td>\n",
       "      <td>INF</td>\n",
       "    </tr>\n",
       "    <tr>\n",
       "      <th>13610</th>\n",
       "      <td>31.566816</td>\n",
       "      <td>INF</td>\n",
       "    </tr>\n",
       "  </tbody>\n",
       "</table>\n",
       "<p>13611 rows × 2 columns</p>\n",
       "</div>"
      ],
      "text/plain": [
       "        Min Dist Classification\n",
       "0       0.075791           MEAS\n",
       "1       0.222145           MEAS\n",
       "2       0.261512           MEAS\n",
       "3       0.277510           MEAS\n",
       "4       0.309167           MEAS\n",
       "...          ...            ...\n",
       "13606  30.481064            INF\n",
       "13607  30.505543            INF\n",
       "13608  30.514164            INF\n",
       "13609  30.922736            INF\n",
       "13610  31.566816            INF\n",
       "\n",
       "[13611 rows x 2 columns]"
      ]
     },
     "execution_count": 3,
     "metadata": {},
     "output_type": "execute_result"
    }
   ],
   "source": [
    "df = pd.read_csv('bm_dist_class.csv')\n",
    "df"
   ]
  },
  {
   "cell_type": "code",
   "execution_count": 4,
   "id": "86175254",
   "metadata": {},
   "outputs": [
    {
     "data": {
      "image/png": "[encoded data removed]",
      "text/plain": [
       "<Figure size 504x360 with 1 Axes>"
      ]
     },
     "metadata": {
      "needs_background": "light"
     },
     "output_type": "display_data"
    }
   ],
   "source": [
    "values = chart_data(df, 40, 'Min Dist', 'Classification', ['MEAS', 'IND', 'INF'], [20, 3])"
   ]
  },
  {
   "cell_type": "code",
   "execution_count": null,
   "id": "f564ef71",
   "metadata": {},
   "outputs": [],
   "source": []
  }
 ],
 "metadata": {
  "kernelspec": {
   "display_name": "Python 3",
   "language": "python",
   "name": "python3"
  },
  "language_info": {
   "codemirror_mode": {
    "name": "ipython",
    "version": 3
   },
   "file_extension": ".py",
   "mimetype": "text/x-python",
   "name": "python",
   "nbconvert_exporter": "python",
   "pygments_lexer": "ipython3",
   "version": "3.8.8"
  }
 },
 "nbformat": 4,
 "nbformat_minor": 5
}
